{
 "cells": [
  {
   "cell_type": "code",
   "execution_count": null,
   "id": "dependent-position",
   "metadata": {},
   "outputs": [],
   "source": [
    "import numpy as np\n",
    "import inference,hpwren\n",
    "import tflite_runtime.interpreter as tflite\n",
    "import time,datetime,os,sys,subprocess\n",
    "from distutils.util import strtobool\n",
    "import json"
   ]
  },
  {
   "cell_type": "markdown",
   "id": "described-memphis",
   "metadata": {},
   "source": [
    "## Input HPWREN Site ID and Camera type"
   ]
  },
  {
   "cell_type": "code",
   "execution_count": null,
   "id": "particular-tomorrow",
   "metadata": {},
   "outputs": [],
   "source": [
    "cameraType : 'CWLIntInput' = 0\n",
    "siteID     : 'CWLIntInput' = 0\n",
    "\n",
    "object = 'model.tflite'\n",
    "modelDir = 'src/'\n",
    "modelPath : 'CWLFilePathInput' = os.path.abspath(os.path.join(modelDir,object))"
   ]
  },
  {
   "cell_type": "markdown",
   "id": "numerical-space",
   "metadata": {},
   "source": [
    "## Output files for smoke detection model"
   ]
  },
  {
   "cell_type": "code",
   "execution_count": null,
   "id": "directed-diploma",
   "metadata": {},
   "outputs": [],
   "source": [
    "resultsDir = 'src/'\n",
    "imageName = 'hpwren-image-used-for-inference.jpeg'\n",
    "resultsName = 'model-inference-results.json'\n",
    "\n",
    "imagePath  : 'CWLFilePathOutput'  = imageName\n",
    "resultsPath: 'CWLFilePathOutput'  = resultsName"
   ]
  },
  {
   "cell_type": "markdown",
   "id": "liked-detection",
   "metadata": {},
   "source": [
    "## Perform an inference on selected hpwren site and camera type"
   ]
  },
  {
   "cell_type": "code",
   "execution_count": null,
   "id": "reliable-gather",
   "metadata": {},
   "outputs": [],
   "source": [
    "#HPWREN Parameters\n",
    "hpwrenUrl = \"https://firemap.sdsc.edu/pylaski/\"\\\n",
    "\"stations?camera=only&selection=\"\\\n",
    "\"boundingBox&minLat=0&maxLat=90&minLon=-180&maxLon=0\"\n",
    "camObj = hpwren.cameras(hpwrenUrl)\n",
    "serverName = 'HPWREN Camera'\n",
    "imageURL,description = camObj.getImageURL(cameraType,siteID)\n",
    "\n",
    "#Inference Section\n",
    "print('Starting smoke detection inferencing')\n",
    "testObj = inference.FireImage()\n",
    "print('Get image from ' + serverName)\n",
    "print(\"Image url: \" + imageURL)\n",
    "print(\"Description: \" + description)\n",
    "testObj.urlToImage(imageURL)\n",
    "testObj.writeImage(imagePath)\n",
    "\n",
    "interpreter = tflite.Interpreter(model_path=modelPath)\n",
    "interpreter.allocate_tensors()\n",
    "result,percent = testObj.inference(interpreter)"
   ]
  },
  {
   "cell_type": "markdown",
   "id": "normal-conflict",
   "metadata": {},
   "source": [
    "## Output results"
   ]
  },
  {
   "cell_type": "code",
   "execution_count": null,
   "id": "ranging-beads",
   "metadata": {},
   "outputs": [],
   "source": [
    "print('Perform an inference based on trainned model')\n",
    "print(result)\n",
    "\n",
    "#Output section\n",
    "classifier = result.split(',')[0]\n",
    "currentDT = str(datetime.datetime.now())\n",
    "outputDataSchema = ['Image Server','Image URL','Image Description',\n",
    "                    'Inference Classifier','Inference Accuracy',\n",
    "                    'Inference Datetime']\n",
    "outputDataVals = [serverName,imageURL,description,\n",
    "                    classifier,percent,currentDT]\n",
    "outputDataDict = {outputDataSchema[i]: outputDataVals[i] for i in range(len(outputDataSchema))}\n",
    "with open(resultsPath,'w') as fp:\n",
    "    json.dump(outputDataDict,fp)"
   ]
  }
 ],
 "metadata": {
  "kernelspec": {
   "display_name": "Python 3",
   "language": "python",
   "name": "python3"
  },
  "language_info": {
   "codemirror_mode": {
    "name": "ipython",
    "version": 3
   },
   "file_extension": ".py",
   "mimetype": "text/x-python",
   "name": "python",
   "nbconvert_exporter": "python",
   "pygments_lexer": "ipython3",
   "version": "3.9.1"
  }
 },
 "nbformat": 4,
 "nbformat_minor": 5
}
